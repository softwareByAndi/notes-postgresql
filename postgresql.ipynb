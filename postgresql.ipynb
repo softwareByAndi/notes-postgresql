{
 "cells": [
  {
   "attachments": {},
   "cell_type": "markdown",
   "metadata": {},
   "source": [
    "## TODO\n",
    "- AWS certification\n",
    "    - cloud administrator\n",
    "- retool\n",
    "- postgres"
   ]
  },
  {
   "attachments": {},
   "cell_type": "markdown",
   "metadata": {},
   "source": [
    "# CREATE TABLE"
   ]
  },
  {
   "cell_type": "code",
   "execution_count": null,
   "metadata": {
    "vscode": {
     "languageId": "sql"
    }
   },
   "outputs": [],
   "source": [
    "CREATE TABLE example (\n",
    "      id SERIAL PRIMARY KEY\n",
    "    , fk_product_id INTEGER REFERENCES product(id)\n",
    "    , _string VARCHAR(60) NOT NULL DEFAULT \"Variable String\"\n",
    "    , _date DATE NULL\n",
    ");"
   ]
  },
  {
   "attachments": {},
   "cell_type": "markdown",
   "metadata": {},
   "source": [
    "# TYPES"
   ]
  },
  {
   "attachments": {},
   "cell_type": "markdown",
   "metadata": {},
   "source": [
    "### CHARACTER TYPES"
   ]
  },
  {
   "cell_type": "code",
   "execution_count": null,
   "metadata": {
    "vscode": {
     "languageId": "sql"
    }
   },
   "outputs": [],
   "source": [
    "-- CHARACTER TYPES\n",
    "string TEXT -- store any length of characters\n",
    "string VARCHAR -- store any lengthe of characters\n",
    "string VARCHAR(255) -- store up to 255 chars\n",
    "char CHAR(5) -- store up to 5 characters"
   ]
  },
  {
   "attachments": {},
   "cell_type": "markdown",
   "metadata": {},
   "source": [
    "### BOOLEAN TYPES"
   ]
  },
  {
   "cell_type": "code",
   "execution_count": null,
   "metadata": {
    "vscode": {
     "languageId": "sql"
    }
   },
   "outputs": [],
   "source": [
    "-- BOOLEAN TYPES\n",
    "bool BOOLEAN  -- True, 1, t, y, yes, on\n",
    "            -- False, 0, f, n, no, off"
   ]
  },
  {
   "attachments": {},
   "cell_type": "markdown",
   "metadata": {},
   "source": [
    "### NUMERIC TYPES"
   ]
  },
  {
   "cell_type": "code",
   "execution_count": null,
   "metadata": {
    "vscode": {
     "languageId": "sql"
    }
   },
   "outputs": [],
   "source": [
    "-- NUMERIC TYPES\n",
    "int_short SMALLINT -- integer from -32_768 to 32_767 \n",
    "int       INTEGER -- integer from -2_147_583_648 to 2_147_583_647\n",
    "int_long  BIGINT -- integer from -9_223_372_036_854_775_808 to 9_223_372_036_854_775_807\n",
    "\n",
    "float_decimal DECIMAL  -- 131072 whole digits + 16383 after decimal\n",
    "float_numeric NUMERIC  -- 131072 whole digits + 16383 after decimal\n",
    "float_real    REAL     -- 1E-37 to 1E37 (6 places of precision)\n",
    "float_double  DOUBLEPRECISION  -- 1E-307 to 1E308 (15 places of precision) used when decimal doesn't have to be very precise \n",
    "float         FLOAT    -- same as double\n",
    "\n",
    "serial_short SMALLSERIAL  -- auto increment uint from 1 to 32_767\n",
    "serial       SERIAL  -- auto increment uint from 1 to 2_147_483_674\n",
    "serial_long  BIGSERIAL  -- auto increment uint from 1 to 9_223_372_036_854_775_807"
   ]
  },
  {
   "attachments": {},
   "cell_type": "markdown",
   "metadata": {},
   "source": [
    "### DATE TIME TYPES"
   ]
  },
  {
   "cell_type": "code",
   "execution_count": null,
   "metadata": {
    "vscode": {
     "languageId": "sql"
    }
   },
   "outputs": [],
   "source": [
    "-- DATE TIME TYPES\n",
    "date DATE NULL,\n",
    "timestamp TIMESTAMP NOT NULL\n"
   ]
  },
  {
   "attachments": {},
   "cell_type": "markdown",
   "metadata": {},
   "source": [
    "# ALTER TABLE"
   ]
  },
  {
   "cell_type": "code",
   "execution_count": null,
   "metadata": {
    "vscode": {
     "languageId": "sql"
    }
   },
   "outputs": [],
   "source": [
    "ALTER TABLE _table ADD _col_name VARCHAR(8);\n",
    "ALTER TABLE _table ALTER COLUMN _col_name SET NOT NULL;\n",
    "ALTER TABLE _table RENAME COLUMN _col_name _new_col_name;\n",
    "ALTER TABLE _table DROP COLUMN _new_col_name;\n",
    "\n",
    "ALTER TABLE _table ALTER COLUMN _col_name TYPE INTEGER;"
   ]
  },
  {
   "attachments": {},
   "cell_type": "markdown",
   "metadata": {},
   "source": [
    "### CREATE INDEX"
   ]
  },
  {
   "cell_type": "code",
   "execution_count": null,
   "metadata": {
    "vscode": {
     "languageId": "sql"
    }
   },
   "outputs": [],
   "source": [
    "CREATE INDEX _table_id ON _table(_col_name);\n",
    "CREATE INDEX _table_id ON _table(_col_1, _col_2);\n",
    "TRUNCATE TABLE _table; -- remove data from table\n",
    "DROP TABLE _table; -- delete table"
   ]
  },
  {
   "attachments": {},
   "cell_type": "markdown",
   "metadata": {},
   "source": [
    "### INSERT INTO"
   ]
  },
  {
   "cell_type": "code",
   "execution_count": null,
   "metadata": {
    "vscode": {
     "languageId": "sql"
    }
   },
   "outputs": [],
   "source": [
    "CREATE TABLE _table (\n",
    "      id SERIAL PRIMARY KEY\n",
    "    , _int INTEGER\n",
    "    , _string VARCHAR\n",
    "    , _bool BOOLEAN\n",
    ");\n",
    "\n",
    "INSERT INTO _table(_string) VALUES('string value');\n",
    "INSERT INTO _table(_string, _int) VALUES('value 1', 2);\n",
    "INSERT INTO _table VALUES \n",
    "      (1, 'string stuff', TRUE)\n",
    "    , (13, 'string stuff', FALSE)\n",
    ";\n",
    "\n",
    "\n",
    "SELECT * FROM _table;"
   ]
  },
  {
   "attachments": {},
   "cell_type": "markdown",
   "metadata": {},
   "source": [
    "# QUERY EXAMPLES"
   ]
  },
  {
   "cell_type": "code",
   "execution_count": null,
   "metadata": {
    "vscode": {
     "languageId": "sql"
    }
   },
   "outputs": [],
   "source": [
    "SELECT \n",
    "      ___\n",
    "    , ___\n",
    "    , CONCAT(_col_3, ' ' , _col_4) AS {col_alias}\n",
    "FROM _table\n",
    "WHERE ___ > {value} AND ___ < {value}\n",
    "ORDER BY ___ DESC\n",
    "LIMIT {int}\n",
    ";"
   ]
  },
  {
   "cell_type": "code",
   "execution_count": null,
   "metadata": {
    "vscode": {
     "languageId": "sql"
    }
   },
   "outputs": [],
   "source": [
    "SELECT \n",
    "      ___\n",
    "    , SUM(_col_2) AS {col_alias}\n",
    "FROM _table\n",
    "WHERE ___ = {value}\n",
    "GROUP BY ___\n",
    ";"
   ]
  },
  {
   "cell_type": "code",
   "execution_count": null,
   "metadata": {
    "vscode": {
     "languageId": "sql"
    }
   },
   "outputs": [],
   "source": [
    "SELECT DISTINCT ___\n",
    "FROM _table\n",
    "WHERE ___ IN ({value}, {value})\n",
    "ORDER BY ___\n",
    ";"
   ]
  },
  {
   "cell_type": "code",
   "execution_count": null,
   "metadata": {
    "vscode": {
     "languageId": "sql"
    }
   },
   "outputs": [],
   "source": [
    "SELECT \n",
    "      a.___\n",
    "    , b.___\n",
    "    , c.___\n",
    "    , (b.___ * c.___) AS {col_alias}\n",
    "FROM a \n",
    "JOIN b \n",
    "    ON b.___ = a.___\n",
    "JOIN c \n",
    "    ON c.___ = b.___\n",
    "ORDER BY a.___\n",
    ";"
   ]
  },
  {
   "cell_type": "code",
   "execution_count": null,
   "metadata": {
    "vscode": {
     "languageId": "sql"
    }
   },
   "outputs": [],
   "source": [
    "SELECT ___, ___, ___\n",
    "FROM a LEFT JOIN b\n",
    "ON b.___ = a.___\n",
    "ORDER BY ___\n",
    ";"
   ]
  },
  {
   "cell_type": "code",
   "execution_count": null,
   "metadata": {
    "vscode": {
     "languageId": "sql"
    }
   },
   "outputs": [],
   "source": [
    "SELECT ___, ___, ___\n",
    "FROM a CROSS JOIN b\n",
    "ORDER BY ___\n",
    ";"
   ]
  },
  {
   "cell_type": "code",
   "execution_count": null,
   "metadata": {
    "vscode": {
     "languageId": "sql"
    }
   },
   "outputs": [],
   "source": [
    "SELECT \n",
    "      EXTRACT(MONTH FROM _col_date) AS {col_alias}\n",
    "    , COUNT(*) AS {col_alias}\n",
    "FROM _table\n",
    "GROUP BY ___\n",
    "HAVING COUNT(*) > {value}\n",
    "ORDER BY ___\n",
    ";"
   ]
  },
  {
   "cell_type": "code",
   "execution_count": null,
   "metadata": {
    "vscode": {
     "languageId": "sql"
    }
   },
   "outputs": [],
   "source": [
    "SELECT _col_date, ___, ___\n",
    "FROM a\n",
    "WHERE EXTRACT(MONTH FROM _col_date) = {value}\n",
    "\n",
    "UNION\n",
    "SELECT _col_date, ___, ____\n",
    "FROM b\n",
    "WHERE EXTRACT(MONTH FROM _col_date) = {value}\n",
    "\n",
    "ORDER BY _col_date\n",
    ";"
   ]
  },
  {
   "attachments": {},
   "cell_type": "markdown",
   "metadata": {},
   "source": [
    "# WHERE"
   ]
  },
  {
   "cell_type": "code",
   "execution_count": null,
   "metadata": {
    "vscode": {
     "languageId": "sql"
    }
   },
   "outputs": [],
   "source": [
    "WHERE ___ = NULL\n",
    "WHERE ___ IS NOT NULL\n",
    "WHERE _int < {value} AND _int > {value}\n",
    "WHERE _string SIMILAR TO {value}\n",
    "WHERE _string SIMILAR TO 'M%' -- (match any word starting w/ 'M') Mike, Matthew, etc...\n",
    "WHERE _string SIMILAR TO 'A_____' -- (match 6 letter word starting w/ 'A') e.g. Andrew, Andres, etc...\n",
    "WHERE _s1 SIMILAR TO 'D%' OR _s2 SIMILAR TO '%n'"
   ]
  },
  {
   "attachments": {},
   "cell_type": "markdown",
   "metadata": {},
   "source": [
    "# REGEX"
   ]
  },
  {
   "cell_type": "code",
   "execution_count": null,
   "metadata": {
    "vscode": {
     "languageId": "sql"
    }
   },
   "outputs": [],
   "source": [
    "WHERE ___ ~ {regex}\n",
    "\n",
    "----------------------------\n",
    ". -- any single character\n",
    "* -- 0 or more\n",
    "+ -- 1 or more\n",
    "^ -- beginning of string\n",
    "$ -- end of string\n",
    "[^ab]   -- not a & b\n",
    "[ab]    -- only a & b\n",
    "[A-Z]   -- all uppercase\n",
    "[a-z]   -- all lowercase\n",
    "[0-9]   -- all numbers\n",
    "{n}     -- n instances of\n",
    "{m,n}   -- between m & n instances of\n",
    "m|n     -- match m or n\n",
    "----------------------------\n",
    "\n",
    "'ez|son' -- has 'ez' or 'son' "
   ]
  },
  {
   "attachments": {},
   "cell_type": "markdown",
   "metadata": {},
   "source": [
    "# INTEGRATED FUNCTIONS"
   ]
  },
  {
   "cell_type": "code",
   "execution_count": null,
   "metadata": {
    "vscode": {
     "languageId": "sql"
    }
   },
   "outputs": [],
   "source": [
    "SUM(___)\n",
    "COUNT(*)\n",
    "ROUND(___)\n",
    "AVG(___)\n",
    "MIN(___)\n",
    "MAX(___)\n"
   ]
  },
  {
   "attachments": {},
   "cell_type": "markdown",
   "metadata": {},
   "source": [
    "# VIEWS"
   ]
  },
  {
   "cell_type": "code",
   "execution_count": null,
   "metadata": {
    "vscode": {
     "languageId": "sql"
    }
   },
   "outputs": [],
   "source": [
    "CREATE VIEW _view AS\n",
    "SELECT \n",
    "      a.___\n",
    "    , b.___\n",
    "    , c.___\n",
    "    , d.___\n",
    "    , (c.___ * d.___) AS {alias} -- NOT UPDATABLE VIEW (remove to make the view updatable)\n",
    "CONCAT(e.___, ' ', e.___) AS {alias}\n",
    "FROM a\n",
    "JOIN c\n",
    "    ON c.___ = a.___\n",
    "JOIN d\n",
    "    ON d.___ = c.___\n",
    "JOIN b\n",
    "    ON a.___ = b.___\n",
    "JOIN e\n",
    "    ON e.___ = a.___\n",
    "ORDER BY b.___\n",
    ";\n",
    "\n",
    "--------------------------------------------------------\n",
    "\n",
    "SELECT * FROM _view\n",
    ";\n",
    "\n",
    "SELECT *, (___ * ___) AS {alias} FROM _view\n",
    ";\n",
    "\n",
    "DROP _view\n",
    ";"
   ]
  },
  {
   "attachments": {},
   "cell_type": "markdown",
   "metadata": {},
   "source": [
    "# CREATE SQL FUNCTIONS"
   ]
  },
  {
   "attachments": {},
   "cell_type": "markdown",
   "metadata": {},
   "source": [
    "### SQL: run calculation"
   ]
  },
  {
   "cell_type": "code",
   "execution_count": null,
   "metadata": {
    "vscode": {
     "languageId": "sql"
    }
   },
   "outputs": [],
   "source": [
    "-- run calculation\n",
    "\n",
    "CREATE OR REPLACE FUNCTION fn_add_ints(int, int)\n",
    "RETURNS int AS\n",
    "$body$\n",
    "    SELECT $1 + $2\n",
    "    ;\n",
    "$body$\n",
    "LANGUAGE SQL -- using the SQL language\n",
    "\n",
    "---------------------------------------------------\n",
    "\n",
    "SELECT fn_add_ints(4,5)\n",
    ";"
   ]
  },
  {
   "attachments": {},
   "cell_type": "markdown",
   "metadata": {},
   "source": [
    "### SQL: query set of data"
   ]
  },
  {
   "cell_type": "code",
   "execution_count": null,
   "metadata": {
    "vscode": {
     "languageId": "sql"
    }
   },
   "outputs": [],
   "source": [
    "-- query set of data\n",
    "\n",
    "CREATE OR REPLACE FUNCTION fn_get_matching_entries(_col_value VARCHAR)\n",
    "RETURNS SETOF _table AS -- SETOF returns a set of entries from _table\n",
    "$body$\n",
    "    SELECT *\n",
    "    FROM _table\n",
    "    WHERE ___ = _col_value\n",
    "    ;\n",
    "$body$\n",
    "LANGUAGE SQL\n",
    "\n",
    "---------------------------------------------------\n",
    "\n",
    "SELECT (fn_get_matching_entries(\"value\")).* -- ( ).* transforms the fn's response into a table\n",
    ";\n",
    "\n",
    "SELECT (fn_get_matching_entries()).___ -- only need the one column\n",
    ";\n",
    "\n",
    "SELECT ___, ___, ___\n",
    "FROM fn_get_matching_entries(\"value\") -- no need to transform fn's response here\n",
    ";"
   ]
  },
  {
   "attachments": {},
   "cell_type": "markdown",
   "metadata": {},
   "source": [
    "### SQL: query single entry"
   ]
  },
  {
   "cell_type": "code",
   "execution_count": null,
   "metadata": {
    "vscode": {
     "languageId": "sql"
    }
   },
   "outputs": [],
   "source": [
    "-- query single entry\n",
    "\n",
    "CREATE OR REPLACE FUNCTION fn_get_most_recent_entry()\n",
    "RETURNS _table AS -- only returns 1 entry, not a set of entries\n",
    "$body$\n",
    "    SELECT *\n",
    "    FROM _table\n",
    "    ORDER BY ___ DESC\n",
    "    LIMIT 1 -- only the last entry\n",
    "    ;\n",
    "$body$\n",
    "LANGUAGE SQL\n",
    "\n",
    "---------------------------------------------------\n",
    "\n",
    "SELECT (fn_get_most_recent_entry()).* -- (__).* converts the fn's text response into a table\n",
    ";\n",
    "\n",
    "SELECT (fn_get_most_recent_entry()).___ -- only need the one column\n",
    ";"
   ]
  },
  {
   "attachments": {},
   "cell_type": "markdown",
   "metadata": {},
   "source": [
    "### SQL: initialize or update table entries"
   ]
  },
  {
   "cell_type": "code",
   "execution_count": null,
   "metadata": {
    "vscode": {
     "languageId": "sql"
    }
   },
   "outputs": [],
   "source": [
    "-- initialize or update table entries\n",
    "\n",
    "CREATE OR REPLACE FUNCTION fn_initialize_null_col_entries()\n",
    "RETURNS void AS\n",
    "$body$\n",
    "    UPDATE _table\n",
    "    SET ___ = {value}\n",
    "    WHERE ___ IS NULL\n",
    "    ;\n",
    "$body$\n",
    "LANGUAGE SQL\n",
    "\n",
    "---------------------------------------------------\n",
    "\n",
    "SELECT fn_initialize_null_col_entries()\n",
    ";"
   ]
  },
  {
   "attachments": {},
   "cell_type": "markdown",
   "metadata": {},
   "source": [
    "### SQL: query count of matching entries"
   ]
  },
  {
   "cell_type": "code",
   "execution_count": null,
   "metadata": {
    "vscode": {
     "languageId": "sql"
    }
   },
   "outputs": [],
   "source": [
    "-- query count of matching entries\n",
    "\n",
    "CREATE OR REPLACE FUNCTION fn_get_count_of_entries_where_col_matches(_var_string CHAR(3))\n",
    "RETURNS numeric AS\n",
    "$body$\n",
    "    SELECT COUNT(*)\n",
    "    FROM _table\n",
    "    WHERE ___ = _var_string\n",
    "    ;\n",
    "$body$\n",
    "LANGUAGE SQL\n",
    "\n",
    "---------------------------------------------------\n",
    "\n",
    "SELECT fn_get_count_of_entries_where_col_matches('USA')\n",
    ";"
   ]
  },
  {
   "attachments": {},
   "cell_type": "markdown",
   "metadata": {},
   "source": [
    "# CREATE PL/pgSQL FUNCTIONS"
   ]
  },
  {
   "attachments": {},
   "cell_type": "markdown",
   "metadata": {},
   "source": [
    "### PL/pgSQL : run calculation"
   ]
  },
  {
   "cell_type": "code",
   "execution_count": null,
   "metadata": {
    "vscode": {
     "languageId": "sql"
    }
   },
   "outputs": [],
   "source": [
    "-- run calculation\n",
    "\n",
    "CREATE OR REPLACE FUNCTION fn_get_sum(_val1 int, _val2 int)\n",
    "RETURNS int AS\n",
    "$body$\n",
    "DECLARE\n",
    "    _sum int\n",
    "    ;\n",
    "BEGIN\n",
    "    _sum := _val1 + _val_2\n",
    "    ;\n",
    "    RETURN _sum\n",
    "    ;\n",
    "END\n",
    ";\n",
    "$body$\n",
    "LANGUAGE plpgsql\n",
    "\n",
    "---------------------------------------------------\n",
    "\n",
    "SELECT fn_get_sum(3, 4)\n",
    ";"
   ]
  },
  {
   "attachments": {},
   "cell_type": "markdown",
   "metadata": {},
   "source": [
    "### PL/pgSQL : run calculation using IN & OUT"
   ]
  },
  {
   "cell_type": "code",
   "execution_count": null,
   "metadata": {
    "vscode": {
     "languageId": "sql"
    }
   },
   "outputs": [],
   "source": [
    "-- run calculation using IN & OUT\n",
    "\n",
    "CREATE OR REPLACE FUNCTION fn_get_sum(IN _val1 int, IN _val2 int, OUT _sum int)\n",
    "AS\n",
    "$body$\n",
    "BEGIN\n",
    "    _sum := _val1 + _val_2\n",
    "    ;\n",
    "END\n",
    ";\n",
    "$body$\n",
    "LANGUAGE plpgsql\n",
    "\n",
    "---------------------------------------------------\n",
    "\n",
    "SELECT fn_get_sum(3, 4)\n",
    ";"
   ]
  },
  {
   "attachments": {},
   "cell_type": "markdown",
   "metadata": {},
   "source": [
    "### PL/pgSQL : query value"
   ]
  },
  {
   "cell_type": "code",
   "execution_count": null,
   "metadata": {
    "vscode": {
     "languageId": "sql"
    }
   },
   "outputs": [],
   "source": [
    "-- query value\n",
    "\n",
    "CREATE OR REPLACE FUNCTION fn_get_price_from_product_name(_v_prod_name VARCHAR)\n",
    "RETURNS numeric AS\n",
    "$body$\n",
    "BEGIN\n",
    "    RETURN _t_item._price\n",
    "    FROM _t_item\n",
    "    NATURAL JOIN _t_product\n",
    "    WHERE _t_product._name = _v_prod_name\n",
    "    ;\n",
    "END\n",
    ";\n",
    "$body$\n",
    "LANGUAGE plpgsql\n",
    "\n",
    "------------------------------------------------------\n",
    "\n",
    "SELECT fn_get_price_from_product_name(\"strawberries\")\n",
    ";"
   ]
  },
  {
   "attachments": {},
   "cell_type": "markdown",
   "metadata": {},
   "source": [
    "### PL/pgSQL : query set of entries"
   ]
  },
  {
   "cell_type": "code",
   "execution_count": null,
   "metadata": {
    "vscode": {
     "languageId": "sql"
    }
   },
   "outputs": [],
   "source": [
    "-- query set of entries\n",
    "\n",
    "CREATE OR REPLACE FUNCTION fn_get_all_entries()\n",
    "RETURNS SETOF _table AS\n",
    "$body$\n",
    "BEGIN\n",
    "    RETURN QUERY -- notice QUERY keyword instead of column name\n",
    "    SELECT *\n",
    "    FROM _table\n",
    "    ;\n",
    "END\n",
    ";\n",
    "$body$\n",
    "LANGUAGE plpgsql\n",
    "\n",
    "----------------------------------------------------\n",
    "\n",
    "SELECT (fn_get_all_entries()).*\n",
    ";"
   ]
  },
  {
   "attachments": {},
   "cell_type": "markdown",
   "metadata": {},
   "source": [
    "### PL/pgSQL : query random entry"
   ]
  },
  {
   "cell_type": "code",
   "execution_count": null,
   "metadata": {
    "vscode": {
     "languageId": "sql"
    }
   },
   "outputs": [],
   "source": [
    "-- query random entry\n",
    "\n",
    "CREATE OR REPLACE FUNCTION fn_get_random_salesperson()\n",
    "RETURNS int AS\n",
    "$body$\n",
    "DECLARE\n",
    "    _rand int\n",
    "    ;\n",
    "    _employee record\n",
    "    ;\n",
    "    _min_val int DEFAULT 1\n",
    "    ;\n",
    "    _max_val int DEFAULT 5\n",
    "    ;\n",
    "BEGIN\n",
    "    SELECT RANDOM() & (_max_val - _min_val) + _min_val INTO _rand\n",
    "    ;\n",
    "    SELECT *\n",
    "    FROM _t_sales_person\n",
    "    INTO _employee\n",
    "    WHERE _id = _rand\n",
    "    RETURN CONCAT(_employee._first_name, ' ', _employee._last_name)\n",
    "    ;\n",
    "END\n",
    ";\n",
    "$body$\n",
    "LANGUAGE plpgsql\n",
    "\n",
    "---------------------------------------------------\n",
    "\n",
    "SELECT fn_get_random_salesperson()\n",
    ";"
   ]
  },
  {
   "attachments": {},
   "cell_type": "markdown",
   "metadata": {},
   "source": [
    "### PL/pgSQL : query values from single entry using IN & OUT"
   ]
  },
  {
   "cell_type": "code",
   "execution_count": null,
   "metadata": {
    "vscode": {
     "languageId": "sql"
    }
   },
   "outputs": [],
   "source": [
    "-- query entry values using IN & OUT\n",
    "\n",
    "CREATE OR REPLACE FUNCTION fn_get_customer_birthday\n",
    "(\n",
    "    IN  _v_in_month\n",
    "  , OUT _v_out_birthday_month\n",
    "  , OUT _v_out_birthday_day\n",
    "  , OUT _v_out_first_name\n",
    "  , OUT _v_out_last_name\n",
    ")\n",
    "AS\n",
    "$body$\n",
    "BEGIN\n",
    "    SELECT  \n",
    "        EXTRACT(MONTH FROM _col_birth_date)\n",
    "      , EXTRACT(DAY FROM _col_birth_date)\n",
    "      , _col_first_name\n",
    "      , _col_last_name\n",
    "    INTO  \n",
    "        _v_out_birthday_month\n",
    "      , _v_out_birthday_day\n",
    "      , _v_out_first_name\n",
    "      , _v_out_last_name\n",
    "\n",
    "    FROM _t_customer\n",
    "    WHERE EXTRACT(MONTH FROM _col_birth_date) = _v_in_month\n",
    "    LIMIT 1\n",
    "    ;\n",
    "END\n",
    ";\n",
    "$body$\n",
    "LANGUAGE plpgsql\n",
    "\n",
    "\n",
    "-------------------------------------------------------------------\n",
    "\n",
    "SELECT (fn_get_customer_birthday(12)).*"
   ]
  },
  {
   "attachments": {},
   "cell_type": "markdown",
   "metadata": {},
   "source": [
    "### PL/pgSQL : return custom table"
   ]
  },
  {
   "cell_type": "code",
   "execution_count": null,
   "metadata": {
    "vscode": {
     "languageId": "sql"
    }
   },
   "outputs": [],
   "source": [
    "-- return custom table\n",
    "\n",
    "CREATE OR REPLACE FUNCTION fn_get_10_expensive_products()\n",
    "RETURNS TABLE\n",
    "(\n",
    "    _col_name VARCHAR\n",
    "  , _col_supplier VARCHAR\n",
    "  , _col_price NUMERIC\n",
    ") AS\n",
    "$body$\n",
    "BEGIN\n",
    "    RETURN QUERY\n",
    "    SELECT \n",
    "        _t_product._name\n",
    "      , _t_product._supplier\n",
    "      , _t_product._price\n",
    "    FROM _t_item\n",
    "    NATURAL JOIN _t_product\n",
    "    ORDER BY _t_item._price DESC\n",
    "    LIMIT 10\n",
    "    ;\n",
    "END\n",
    ";\n",
    "$body$\n",
    "LANGUAGE plpgsql\n",
    "\n",
    "------------------------------------------------------------------\n",
    "\n",
    "SELECT (fn_get_10_expensive_products()).*;\n"
   ]
  },
  {
   "attachments": {},
   "cell_type": "markdown",
   "metadata": {},
   "source": [
    "### PL/pgSQL : IF ELSE"
   ]
  },
  {
   "cell_type": "code",
   "execution_count": null,
   "metadata": {
    "vscode": {
     "languageId": "sql"
    }
   },
   "outputs": [],
   "source": [
    "-- function logic using IF ELSE\n",
    "\n",
    "CREATE OR REPLACE FUNCTION fn_if_else_test(_guess int)\n",
    "RETURNS varchar AS\n",
    "$body$\n",
    "DECLARE\n",
    "    _number int DEFAULT 5\n",
    "    ;\n",
    "BEGIN \n",
    "    IF _guess > _number THEN\n",
    "        RETURN CONCAT(_guess, ' is too big')\n",
    "        ;\n",
    "    ELSEIF _guess < _number THEN\n",
    "        RETURN CONCAT(_guess, ' is too small')\n",
    "        ;\n",
    "    ELSE\n",
    "        RETURN CONCAT(_guess, ' is correct! You guessed right!')\n",
    "        ;\n",
    "    END IF\n",
    "    ;\n",
    "END\n",
    ";\n",
    "$body$\n",
    "LANGUAGE plpgsql\n",
    "\n",
    "---------------------------------------------------------------------------\n",
    "\n",
    "SELECT fn_if_else_test(12)\n",
    ";"
   ]
  },
  {
   "attachments": {},
   "cell_type": "markdown",
   "metadata": {},
   "source": [
    "### PL/pgSQL : CASE WHEN"
   ]
  },
  {
   "cell_type": "code",
   "execution_count": null,
   "metadata": {
    "vscode": {
     "languageId": "sql"
    }
   },
   "outputs": [],
   "source": [
    "-- function logic using CASE WHEN\n",
    "\n",
    "CREATE OR REPLACE FUNCTION fn_if_else_test(_guess int)\n",
    "RETURNS varchar AS\n",
    "$body$\n",
    "DECLARE\n",
    "    _number int DEFAULT 5\n",
    "    ;\n",
    "BEGIN \n",
    "    CASE\n",
    "        WHEN _guess > _number THEN\n",
    "            RETURN CONCAT(_guess, ' is too big')\n",
    "            ;\n",
    "        WHEN _guess < _number THEN\n",
    "            RETURN CONCAT(_guess, ' is too small')\n",
    "            ;\n",
    "        ELSE\n",
    "            RETURN CONCAT(_guess, ' is correct! You guessed right!')\n",
    "            ;\n",
    "    END CASE\n",
    "    ;\n",
    "END\n",
    ";\n",
    "$body$\n",
    "LANGUAGE plpgsql\n",
    "\n",
    "---------------------------------------------------------------------------\n",
    "\n",
    "SELECT fn_if_else_test(12)\n",
    ";"
   ]
  },
  {
   "attachments": {},
   "cell_type": "markdown",
   "metadata": {},
   "source": [
    "### PL/pgSQL : LOOP"
   ]
  },
  {
   "cell_type": "code",
   "execution_count": null,
   "metadata": {
    "vscode": {
     "languageId": "sql"
    }
   },
   "outputs": [],
   "source": [
    "-- function logic using LOOP\n",
    "\n",
    "CREATE OR REPLACE FUNCTION fn_loop_test(_loop_count int)\n",
    "RETURNS int AS\n",
    "$body$\n",
    "DECLARE\n",
    "    _index int DEFAULT 1;\n",
    "BEGIN \n",
    "    LOOP\n",
    "        _index := _index + 1\n",
    "        ;\n",
    "        EXIT WHEN _index > _loop_count\n",
    "        ;\n",
    "        CONTINUE WHEN MOD(_index, 2) = 0\n",
    "        ;\n",
    "            -- only odd numbers reach this code\n",
    "            RAISE NOTICE 'Num : %', _index \n",
    "            ;\n",
    "    END LOOP\n",
    "    ;\n",
    "    RETURN _sum\n",
    "    ;\n",
    "END\n",
    ";\n",
    "$body$\n",
    "LANGUAGE plpgsql\n",
    "\n",
    "---------------------------------------------------------------------------\n",
    "\n",
    "SELECT fn_loop_test(12)\n",
    ";"
   ]
  },
  {
   "attachments": {},
   "cell_type": "markdown",
   "metadata": {},
   "source": [
    "### PL/pgSQL : FOR LOOP"
   ]
  },
  {
   "cell_type": "code",
   "execution_count": null,
   "metadata": {
    "vscode": {
     "languageId": "sql"
    }
   },
   "outputs": [],
   "source": [
    "-- function logic using FOR LOOP\n",
    "\n",
    "CREATE OR REPLACE FUNCTION fn_for_test(_max_index int)\n",
    "RETURNS int AS\n",
    "$body$\n",
    "DECLARE\n",
    "    _sum int DEFAULT 0;\n",
    "BEGIN \n",
    "    FOR _i IN 1 .. _max_index by 2\n",
    "    -- FOR _i IN REVERSE _max_index .. 1 BY 2\n",
    "    LOOP\n",
    "        _sum := _sum + _i\n",
    "        ;\n",
    "        \n",
    "    END LOOP\n",
    "    ;\n",
    "    RETURN _sum\n",
    "    ;\n",
    "END\n",
    ";\n",
    "$body$\n",
    "LANGUAGE plpgsql\n",
    "\n",
    "---------------------------------------------------------------------------\n",
    "\n",
    "SELECT fn_for_test(12)\n",
    ";"
   ]
  },
  {
   "attachments": {},
   "cell_type": "markdown",
   "metadata": {},
   "source": [
    "### PL/pgSQL : DO block - & - FOR record in SELECT FROM"
   ]
  },
  {
   "cell_type": "code",
   "execution_count": null,
   "metadata": {
    "vscode": {
     "languageId": "sql"
    }
   },
   "outputs": [],
   "source": [
    "DO\n",
    "$body$\n",
    "    DECLARE\n",
    "        _v_decl_rec record\n",
    "        ;\n",
    "    BEGIN\n",
    "        FOR _v_decl_rec IN\n",
    "            SELECT _col_first_name, _col_last_name\n",
    "            FROM _t_sales_person\n",
    "            LIMIT 5\n",
    "        LOOP\n",
    "            RAISE NOTICE '% %'\n",
    "                , _v_decl_rec._col_first_name\n",
    "                , _v_decl_rec._col_last_name\n",
    "            ;\n",
    "        END LOOP\n",
    "        ;\n",
    "    END\n",
    "    ;\n",
    "$body$\n",
    "LANGUAGE plpgsql"
   ]
  },
  {
   "attachments": {},
   "cell_type": "markdown",
   "metadata": {},
   "source": [
    "### PL/pgSQL : FOREACH & ARRAY"
   ]
  },
  {
   "cell_type": "code",
   "execution_count": null,
   "metadata": {
    "vscode": {
     "languageId": "sql"
    }
   },
   "outputs": [],
   "source": [
    "DO\n",
    "$body$\n",
    "    DECLARE\n",
    "        _arr int [] := array [1, 2, 3]\n",
    "        ;\n",
    "        _index int\n",
    "        ;\n",
    "    BEGIN\n",
    "        FOREACH _index IN ARRAY _arr\n",
    "        LOOP\n",
    "            RAISE NOTICE '%', _index\n",
    "            ;\n",
    "        END LOOP\n",
    "        ;\n",
    "    END\n",
    "    ;\n",
    "$body$\n",
    "LANGUAGE plpgsql"
   ]
  },
  {
   "attachments": {},
   "cell_type": "markdown",
   "metadata": {},
   "source": [
    "### PL/pgSQL : WHILE"
   ]
  },
  {
   "cell_type": "code",
   "execution_count": null,
   "metadata": {
    "vscode": {
     "languageId": "sql"
    }
   },
   "outputs": [],
   "source": [
    "DO\n",
    "$body$\n",
    "    DECLARE\n",
    "        _index int DEFAULT 1\n",
    "        ;\n",
    "        _num_loop int DEFAULT 10\n",
    "        ;\n",
    "        _sum int DEFAULT 0\n",
    "        ;\n",
    "    BEGIN\n",
    "        WHILE _index <= _num_loop\n",
    "        LOOP\n",
    "            _sum := _sum + _index\n",
    "            ;\n",
    "            _index := _index + 1\n",
    "            ;\n",
    "        END LOOP\n",
    "        ;\n",
    "        RAISE NOTICE '%', _sum\n",
    "        ;\n",
    "    END\n",
    "    ;\n",
    "$body$\n",
    "LANGUAGE plpgsql"
   ]
  },
  {
   "attachments": {},
   "cell_type": "markdown",
   "metadata": {},
   "source": [
    "### PL/pgSQL : "
   ]
  },
  {
   "cell_type": "code",
   "execution_count": null,
   "metadata": {
    "vscode": {
     "languageId": "sql"
    }
   },
   "outputs": [],
   "source": []
  }
 ],
 "metadata": {
  "language_info": {
   "name": "python"
  },
  "orig_nbformat": 4
 },
 "nbformat": 4,
 "nbformat_minor": 2
}
